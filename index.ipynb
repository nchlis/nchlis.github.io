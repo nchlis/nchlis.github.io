{
 "cells": [
  {
   "cell_type": "markdown",
   "metadata": {},
   "source": [
    "<img src=\"./owleye.png\" alt=\"Drawing\" style=\"width: 50px;float: left; margin-right=10px;\"/> \n",
    "# 42: A blog on A.I.\n",
    "\n",
    "<br>\n",
    "\n",
    "## [About](http://users.isc.tuc.gr/~nchlis/)\n",
    "\n",
    "This blog is an attempt to document some of my A.I. related side projects. I'm mostly writing it for personal reference, so it requires that the reader is at least a bit familiar with machine/deep learning concepts. That is, it is not indended to be a list of detailed entries for machine learning 101, but rather a (hopefully) fun collection of interesting stories. There are many blogs/websites/lectures online that aim to teach machine learning, so there's no point in doing it all over again here. Needless to say my interests lie in A.I. related topics. Web-design is not one of those topics, so the layout of this website will be rather _minimal_ (markdown to html).\n",
    "\n",
    "## Index\n",
    "\n",
    "* **2018/08/15**: [Timeseries forecasting for M.L practitioners (and why you should probably use Random Forests for it)](./2018_08_15/page.html)\n",
    "* **2018/07/28**: [Deep learning for image captioning: Should RNNs be blind?](./2018_07_28/page.html)\n",
    "* **2017/08/10**: [Applying Dropout in Convolutional Neural Nets: Where and to what extent?](./2017_08_10/page.html)\n",
    "* **2017/07/22**: [Deep or Wide RNNs? Let'\\s generate new Sherlock Holmes stories and find out.](./2017_07_22/page.html)\n",
    "* **2012, Winter**: [Teaching a computer to play blackjack with reinforcement learning (old project, in Greek).](http://www.intelligence.tuc.gr/~robots/ARCHIVE/2012w/projects/Chlis/)\n"
   ]
  }
 ],
 "metadata": {
  "kernelspec": {
   "display_name": "Python 3",
   "language": "python",
   "name": "python3"
  },
  "language_info": {
   "codemirror_mode": {
    "name": "ipython",
    "version": 3
   },
   "file_extension": ".py",
   "mimetype": "text/x-python",
   "name": "python",
   "nbconvert_exporter": "python",
   "pygments_lexer": "ipython3",
   "version": "3.6.0"
  }
 },
 "nbformat": 4,
 "nbformat_minor": 2
}
